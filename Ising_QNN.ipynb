{
 "cells": [
  {
   "cell_type": "code",
   "execution_count": 13,
   "metadata": {},
   "outputs": [],
   "source": [
    "import numpy as np\n",
    "import torch\n",
    "import torch.nn as nn\n",
    "import matplotlib.pyplot as plt\n",
    "from IPython.display import clear_output\n",
    "\n",
    "from qiskit import QuantumCircuit\n",
    "from qiskit.circuit import ParameterVector\n",
    "from qiskit.quantum_info import SparsePauliOp\n",
    "from qiskit.primitives import Estimator\n",
    "from qiskit_machine_learning.neural_networks import EstimatorQNN\n",
    "from qiskit_machine_learning.connectors import TorchConnector\n"
   ]
  },
  {
   "cell_type": "code",
   "execution_count": 14,
   "metadata": {},
   "outputs": [],
   "source": [
    "# ----- 参数设置 -----\n",
    "n_qubits = 4\n",
    "J = 1.0\n",
    "h = 1.0"
   ]
  },
  {
   "cell_type": "code",
   "execution_count": 15,
   "metadata": {},
   "outputs": [],
   "source": [
    "# ----- 构建 1D 横场 Ising Hamiltonian -----\n",
    "def build_ising_hamiltonian(n, J, h):\n",
    "    paulis = []\n",
    "    coeffs = []\n",
    "\n",
    "    # Z_i Z_{i+1} 项\n",
    "    for i in range(n - 1):\n",
    "        label = ['I'] * n\n",
    "        label[i] = 'Z'\n",
    "        label[i + 1] = 'Z'\n",
    "        paulis.append(''.join(reversed(label)))  # Qiskit从右往左\n",
    "        coeffs.append(-J)\n",
    "\n",
    "    # X_i 项\n",
    "    for i in range(n):\n",
    "        label = ['I'] * n\n",
    "        label[i] = 'X'\n",
    "        paulis.append(''.join(reversed(label)))\n",
    "        coeffs.append(-h)\n",
    "\n",
    "    return SparsePauliOp.from_list(list(zip(paulis, coeffs)))\n",
    "\n",
    "hamiltonian = build_ising_hamiltonian(n_qubits, J, h)"
   ]
  },
  {
   "cell_type": "code",
   "execution_count": 16,
   "metadata": {},
   "outputs": [],
   "source": [
    "def create_hadamard_ansatz(n_qubits, reps=6):\n",
    "    params = ParameterVector('θ', length=3 * n_qubits * reps)\n",
    "    qc = QuantumCircuit(n_qubits)\n",
    "    # Hadamard初态\n",
    "    for i in range(n_qubits):\n",
    "        qc.h(i)\n",
    "    # 多层参数化\n",
    "    for rep in range(reps):\n",
    "        for i in range(n_qubits):\n",
    "            qc.ry(params[3 * n_qubits * rep + i], i)\n",
    "            qc.rx(params[3 * n_qubits * rep + n_qubits + i], i)\n",
    "            qc.rz(params[3 * n_qubits * rep + 2 * n_qubits + i], i)\n",
    "        # 全连接纠缠\n",
    "        for i in range(n_qubits):\n",
    "            for j in range(i+1, n_qubits):\n",
    "                qc.cx(i, j)\n",
    "    return qc, list(params)\n",
    "\n",
    "\n",
    "\n",
    "# 使用Hadamard+全连接纠缠ansatz\n",
    "ansatz_circuit, ansatz_params = create_hadamard_ansatz(n_qubits, reps=6)\n"
   ]
  },
  {
   "cell_type": "code",
   "execution_count": 17,
   "metadata": {},
   "outputs": [
    {
     "name": "stderr",
     "output_type": "stream",
     "text": [
      "/var/folders/d9/_3jh3gcd7m5gl50nsj1mgls80000gn/T/ipykernel_78142/1738038090.py:3: DeprecationWarning: V1 Primitives are deprecated as of qiskit-machine-learning 0.8.0 and will be removed no sooner than 4 months after the release date. Use V2 primitives for continued compatibility and support.\n",
      "  qnn = EstimatorQNN(\n"
     ]
    }
   ],
   "source": [
    "# ----- 构建 EstimatorQNN -----\n",
    "estimator = Estimator()\n",
    "qnn = EstimatorQNN(\n",
    "    circuit=ansatz_circuit,\n",
    "    observables=hamiltonian,\n",
    "    input_params=[],\n",
    "    weight_params=ansatz_params,\n",
    "    estimator=estimator\n",
    ")\n"
   ]
  },
  {
   "cell_type": "code",
   "execution_count": 18,
   "metadata": {},
   "outputs": [],
   "source": [
    "# ----- 用 TorchConnector 包装 QNN -----\n",
    "qnn_model = TorchConnector(qnn)"
   ]
  },
  {
   "cell_type": "code",
   "execution_count": 19,
   "metadata": {},
   "outputs": [],
   "source": [
    "# ----- 动态可视化回调函数 -----\n",
    "objective_func_vals = []\n",
    "def callback_graph(weights, obj_func_eval):\n",
    "    clear_output(wait=True)\n",
    "    objective_func_vals.append(obj_func_eval)\n",
    "    plt.title(\"Objective function value against iteration\")\n",
    "    plt.xlabel(\"Iteration\")\n",
    "    plt.ylabel(\"Objective function value\")\n",
    "    plt.plot(range(len(objective_func_vals)), objective_func_vals)\n",
    "    plt.grid(True)\n",
    "    plt.show()"
   ]
  },
  {
   "cell_type": "code",
   "execution_count": 20,
   "metadata": {},
   "outputs": [
    {
     "data": {
      "text/plain": [
       "'optimizer = torch.optim.Adagrad(qnn_model.parameters(), lr=0.1)  # 可调整学习率'"
      ]
     },
     "execution_count": 20,
     "metadata": {},
     "output_type": "execute_result"
    }
   ],
   "source": [
    "# 使用 Adagrad 优化器\n",
    "'''optimizer = torch.optim.Adagrad(qnn_model.parameters(), lr=0.1)  # 可调整学习率'''"
   ]
  },
  {
   "cell_type": "code",
   "execution_count": 21,
   "metadata": {},
   "outputs": [
    {
     "data": {
      "text/plain": [
       "'optimizer = torch.optim.SGD(qnn_model.parameters(), lr=0.01)  # 可根据需要调整学习率'"
      ]
     },
     "execution_count": 21,
     "metadata": {},
     "output_type": "execute_result"
    }
   ],
   "source": [
    "# 使用随机梯度下降 (SGD) 优化器\n",
    "'''optimizer = torch.optim.SGD(qnn_model.parameters(), lr=0.01)  # 可根据需要调整学习率'''\n"
   ]
  },
  {
   "cell_type": "code",
   "execution_count": 22,
   "metadata": {},
   "outputs": [],
   "source": [
    "# 调整 Adam 优化器的学习率\n",
    "optimizer = torch.optim.Adam(qnn_model.parameters(), lr=0.01)  # 调整学习率\n"
   ]
  },
  {
   "cell_type": "code",
   "execution_count": 23,
   "metadata": {},
   "outputs": [
    {
     "data": {
      "image/png": "[encoded data removed]",
      "text/plain": [
       "<Figure size 640x480 with 1 Axes>"
      ]
     },
     "metadata": {},
     "output_type": "display_data"
    },
    {
     "name": "stdout",
     "output_type": "stream",
     "text": [
      "Trial 1: Ground state energy E0 ≈ -4.733584\n",
      "\n",
      "Best ground state energy after 1 trials: E0 ≈ -4.733584\n",
      "Magnetization <Z> per site ≈ 0.064131\n",
      "Magnetization <X> per site ≈ 0.240634\n"
     ]
    }
   ],
   "source": [
    "num_trials = 1  # 尝试次数，可根据需要调整\n",
    "best_energy = None\n",
    "best_weights = None\n",
    "\n",
    "# 损失函数alpha权重减小，优化器改为AdamW\n",
    "optimizer = torch.optim.AdamW(qnn_model.parameters(), lr=0.01)\n",
    "alpha = 0.02  # 更小的权重，主导能量优化\n",
    "\n",
    "for trial in range(num_trials):\n",
    "    # 随机初始化参数\n",
    "    for param in qnn_model.parameters():\n",
    "        nn.init.uniform_(param, a=-np.pi, b=np.pi)\n",
    "    objective_func_vals = []\n",
    "\n",
    "    for epoch in range(100):\n",
    "        optimizer.zero_grad()\n",
    "        output = qnn_model()\n",
    "        # 计算mx\n",
    "        x_obs = SparsePauliOp.from_list([(f\"{'X'*n_qubits}\", 1.0)])\n",
    "        mx = estimator.run(circuits=ansatz_circuit, observables=x_obs, parameter_values=[qnn_model.weight.detach().numpy()]).result().values[0]\n",
    "        loss = output.mean() + alpha * (1 - abs(mx))\n",
    "        loss.backward()\n",
    "        optimizer.step()\n",
    "        callback_graph(qnn_model.weight, loss.item())\n",
    "\n",
    "    # 计算当前trial的基态能量\n",
    "    final_weights = qnn_model.weight.detach().numpy()\n",
    "    estimator = Estimator()\n",
    "    E0 = estimator.run(\n",
    "        circuits=ansatz_circuit,\n",
    "        observables=hamiltonian,\n",
    "        parameter_values=[final_weights]\n",
    "    ).result().values[0]\n",
    "    print(f\"Trial {trial+1}: Ground state energy E0 ≈ {E0:.6f}\")\n",
    "\n",
    "    if (best_energy is None) or (E0 < best_energy):\n",
    "        best_energy = E0\n",
    "        best_weights = final_weights\n",
    "\n",
    "print(f\"\\nBest ground state energy after {num_trials} trials: E0 ≈ {best_energy:.6f}\")\n",
    "\n",
    "# 用最优参数输出物理量\n",
    "estimator = Estimator()\n",
    "E0 = estimator.run(circuits=ansatz_circuit, observables=hamiltonian, parameter_values=[best_weights]).result().values[0]\n",
    "\n",
    "z_obs = SparsePauliOp.from_list([(f\"{'Z'*n_qubits}\", 1.0)])\n",
    "mz = estimator.run(circuits=ansatz_circuit, observables=z_obs, parameter_values=[best_weights]).result().values[0] / n_qubits\n",
    "print(f\"Magnetization <Z> per site ≈ {mz:.6f}\")\n",
    "\n",
    "x_obs = SparsePauliOp.from_list([(f\"{'X'*n_qubits}\", 1.0)])\n",
    "mx = estimator.run(circuits=ansatz_circuit, observables=x_obs, parameter_values=[best_weights]).result().values[0] / n_qubits\n",
    "print(f\"Magnetization <X> per site ≈ {mx:.6f}\")"
   ]
  },
  {
   "cell_type": "code",
   "execution_count": null,
   "metadata": {},
   "outputs": [],
   "source": [
    "# 对N=2到10分别计算基态能量和磁化率\n",
    "results = []\n",
    "for n_qubits in range(2, 11):\n",
    "    J = 1.0\n",
    "    h = 1.0\n",
    "    hamiltonian = build_ising_hamiltonian(n_qubits, J, h)\n",
    "    ansatz_circuit, ansatz_params = create_hadamard_ansatz(n_qubits, reps=6)\n",
    "    estimator = Estimator()\n",
    "    qnn = EstimatorQNN(\n",
    "        circuit=ansatz_circuit,\n",
    "        observables=hamiltonian,\n",
    "        input_params=[],\n",
    "        weight_params=ansatz_params,\n",
    "        estimator=estimator\n",
    "    )\n",
    "    qnn_model = TorchConnector(qnn)\n",
    "    optimizer = torch.optim.AdamW(qnn_model.parameters(), lr=0.01)\n",
    "    alpha = 0.02\n",
    "    # 随机初始化参数\n",
    "    for param in qnn_model.parameters():\n",
    "        nn.init.uniform_(param, a=-np.pi, b=np.pi)\n",
    "    for epoch in range(50):  # 迭代步数可调\n",
    "        optimizer.zero_grad()\n",
    "        output = qnn_model()\n",
    "        x_obs = SparsePauliOp.from_list([(f\"{'X'*n_qubits}\", 1.0)])\n",
    "        mx = estimator.run(circuits=ansatz_circuit, observables=x_obs, parameter_values=[qnn_model.weight.detach().numpy()]).result().values[0]\n",
    "        loss = output.mean() + alpha * (1 - abs(mx))\n",
    "        loss.backward()\n",
    "        optimizer.step()\n",
    "    # 记录最优参数下的物理量\n",
    "    final_weights = qnn_model.weight.detach().numpy()\n",
    "    estimator = Estimator()\n",
    "    E0 = estimator.run(circuits=ansatz_circuit, observables=hamiltonian, parameter_values=[final_weights]).result().values[0]\n",
    "    z_obs = SparsePauliOp.from_list([(f\"{'Z'*n_qubits}\", 1.0)])\n",
    "    mz = estimator.run(circuits=ansatz_circuit, observables=z_obs, parameter_values=[final_weights]).result().values[0] / n_qubits\n",
    "    x_obs = SparsePauliOp.from_list([(f\"{'X'*n_qubits}\", 1.0)])\n",
    "    mx = estimator.run(circuits=ansatz_circuit, observables=x_obs, parameter_values=[final_weights]).result().values[0] / n_qubits\n",
    "    results.append((n_qubits, E0, mz, mx))\n",
    "    print(f\"N={n_qubits}: E0={E0:.6f}, <Z>={mz:.6f}, <X>={mx:.6f}\")\n",
    "\n",
    "# 汇总输出\n",
    "print(\"\\nSummary for N=2 to 10:\")\n",
    "for n, E0, mz, mx in results:\n",
    "    print(f\"N={n}: E0={E0:.6f}, <Z>={mz:.6f}, <X>={mx:.6f}\")"
   ]
  }
 ],
 "metadata": {
  "kernelspec": {
   "display_name": "qiskit",
   "language": "python",
   "name": "python3"
  },
  "language_info": {
   "codemirror_mode": {
    "name": "ipython",
    "version": 3
   },
   "file_extension": ".py",
   "mimetype": "text/x-python",
   "name": "python",
   "nbconvert_exporter": "python",
   "pygments_lexer": "ipython3",
   "version": "3.13.3"
  }
 },
 "nbformat": 4,
 "nbformat_minor": 2
}
