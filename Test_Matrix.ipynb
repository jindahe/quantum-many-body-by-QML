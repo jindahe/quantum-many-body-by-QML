{
 "cells": [
  {
   "cell_type": "code",
   "execution_count": 2,
   "metadata": {},
   "outputs": [],
   "source": [
    "import numpy as np\n",
    "from scipy.linalg import eigh\n",
    "from functools import reduce"
   ]
  },
  {
   "cell_type": "code",
   "execution_count": 3,
   "metadata": {},
   "outputs": [],
   "source": [
    "# 系统参数\n",
    "N = 3  # qubit数\n",
    "J = 1.0  # 自旋耦合强度\n",
    "h = 1.0  # 横场强度\n"
   ]
  },
  {
   "cell_type": "code",
   "execution_count": 4,
   "metadata": {},
   "outputs": [],
   "source": [
    "# 定义泡利矩阵\n",
    "I = np.eye(2)\n",
    "X = np.array([[0, 1], [1, 0]])\n",
    "Z = np.array([[1, 0], [0, -1]])"
   ]
  },
  {
   "cell_type": "code",
   "execution_count": 5,
   "metadata": {},
   "outputs": [],
   "source": [
    "# 构造N体泡利矩阵的张量积\n",
    "def kron_N(pauli_list):\n",
    "    return reduce(np.kron, pauli_list)"
   ]
  },
  {
   "cell_type": "code",
   "execution_count": 6,
   "metadata": {},
   "outputs": [],
   "source": [
    "# 构造Hamiltonian矩阵\n",
    "def build_hamiltonian(N, J, h):\n",
    "    H = np.zeros((2**N, 2**N))\n",
    "    # 最近邻Z_i Z_{i+1}项\n",
    "    for i in range(N - 1):\n",
    "        ops = [I] * N\n",
    "        ops[i] = Z\n",
    "        ops[i + 1] = Z\n",
    "        H -= J * kron_N(ops)\n",
    "    # 横场X_i项\n",
    "    for i in range(N):\n",
    "        ops = [I] * N\n",
    "        ops[i] = X\n",
    "        H -= h * kron_N(ops)\n",
    "    return H"
   ]
  },
  {
   "cell_type": "code",
   "execution_count": 7,
   "metadata": {},
   "outputs": [],
   "source": [
    "# 构造总磁化算符\n",
    "def build_total_op(N, op):\n",
    "    total = np.zeros((2**N, 2**N))\n",
    "    for i in range(N):\n",
    "        ops = [I] * N\n",
    "        ops[i] = op\n",
    "        total += kron_N(ops)\n",
    "    return total"
   ]
  },
  {
   "cell_type": "code",
   "execution_count": 8,
   "metadata": {},
   "outputs": [],
   "source": [
    "# 构建Hamiltonian\n",
    "H = build_hamiltonian(N, J, h)"
   ]
  },
  {
   "cell_type": "code",
   "execution_count": 9,
   "metadata": {},
   "outputs": [],
   "source": [
    "# 对角化\n",
    "eigvals, eigvecs = eigh(H)\n",
    "E0 = eigvals[0]\n",
    "ground_state = eigvecs[:, 0]"
   ]
  },
  {
   "cell_type": "code",
   "execution_count": 10,
   "metadata": {},
   "outputs": [],
   "source": [
    "# 构建总磁化算符\n",
    "Z_total = build_total_op(N, Z)\n",
    "X_total = build_total_op(N, X)"
   ]
  },
  {
   "cell_type": "code",
   "execution_count": 11,
   "metadata": {},
   "outputs": [
    {
     "name": "stdout",
     "output_type": "stream",
     "text": [
      "Exact Diagonalization Results for N=3\n",
      "Ground state energy E0: -3.493959\n",
      "<Z> per site: -0.000000\n",
      "<X> per site: 0.842363\n"
     ]
    }
   ],
   "source": [
    "# 计算期望值\n",
    "mz = np.vdot(ground_state, Z_total @ ground_state).real / N\n",
    "mx = np.vdot(ground_state, X_total @ ground_state).real / N\n",
    "\n",
    "# 输出结果\n",
    "print(f\"Exact Diagonalization Results for N={N}\")\n",
    "print(f\"Ground state energy E0: {E0:.6f}\")\n",
    "print(f\"<Z> per site: {mz:.6f}\")\n",
    "print(f\"<X> per site: {mx:.6f}\")"
   ]
  }
 ],
 "metadata": {
  "kernelspec": {
   "display_name": "qiskit",
   "language": "python",
   "name": "python3"
  },
  "language_info": {
   "codemirror_mode": {
    "name": "ipython",
    "version": 3
   },
   "file_extension": ".py",
   "mimetype": "text/x-python",
   "name": "python",
   "nbconvert_exporter": "python",
   "pygments_lexer": "ipython3",
   "version": "3.13.3"
  }
 },
 "nbformat": 4,
 "nbformat_minor": 2
}
