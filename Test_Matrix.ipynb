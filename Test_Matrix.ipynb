{
 "cells": [
  {
   "cell_type": "code",
   "execution_count": 31,
   "metadata": {},
   "outputs": [],
   "source": [
    "import numpy as np\n",
    "from scipy.linalg import eigh\n",
    "from functools import reduce\n",
    "import matplotlib.pyplot as plt"
   ]
  },
  {
   "cell_type": "code",
   "execution_count": 32,
   "metadata": {},
   "outputs": [],
   "source": [
    "# 系统参数\n",
    "N = 10  # qubit数\n",
    "J = 1.0  # 自旋耦合强度\n",
    "h = 1.0  # 横场强度\n"
   ]
  },
  {
   "cell_type": "code",
   "execution_count": 33,
   "metadata": {},
   "outputs": [],
   "source": [
    "# 定义泡利矩阵\n",
    "I = np.eye(2)\n",
    "X = np.array([[0, 1], [1, 0]])\n",
    "Z = np.array([[1, 0], [0, -1]])"
   ]
  },
  {
   "cell_type": "code",
   "execution_count": 34,
   "metadata": {},
   "outputs": [],
   "source": [
    "# 构造N体泡利矩阵的张量积\n",
    "def kron_N(pauli_list):\n",
    "    return reduce(np.kron, pauli_list)"
   ]
  },
  {
   "cell_type": "code",
   "execution_count": 35,
   "metadata": {},
   "outputs": [],
   "source": [
    "# 构造Hamiltonian矩阵\n",
    "def build_hamiltonian(N, J, h):\n",
    "    H = np.zeros((2**N, 2**N))\n",
    "    # 最近邻Z_i Z_{i+1}项\n",
    "    for i in range(N - 1):\n",
    "        ops = [I] * N\n",
    "        ops[i] = Z\n",
    "        ops[i + 1] = Z\n",
    "        H -= J * kron_N(ops)\n",
    "    # 横场X_i项\n",
    "    for i in range(N):\n",
    "        ops = [I] * N\n",
    "        ops[i] = X\n",
    "        H -= h * kron_N(ops)\n",
    "    return H"
   ]
  },
  {
   "cell_type": "code",
   "execution_count": 36,
   "metadata": {},
   "outputs": [],
   "source": [
    "# 构造总磁化算符\n",
    "def build_total_op(N, op):\n",
    "    total = np.zeros((2**N, 2**N))\n",
    "    for i in range(N):\n",
    "        ops = [I] * N\n",
    "        ops[i] = op\n",
    "        total += kron_N(ops)\n",
    "    return total"
   ]
  },
  {
   "cell_type": "code",
   "execution_count": 37,
   "metadata": {},
   "outputs": [],
   "source": [
    "# 构建Hamiltonian\n",
    "H = build_hamiltonian(N, J, h)"
   ]
  },
  {
   "cell_type": "code",
   "execution_count": 38,
   "metadata": {},
   "outputs": [],
   "source": [
    "# 对角化\n",
    "eigvals, eigvecs = eigh(H)\n",
    "E0 = eigvals[0]\n",
    "ground_state = eigvecs[:, 0]"
   ]
  },
  {
   "cell_type": "code",
   "execution_count": 39,
   "metadata": {},
   "outputs": [],
   "source": [
    "# 构建总磁化算符\n",
    "Z_total = build_total_op(N, Z)\n",
    "X_total = build_total_op(N, X)"
   ]
  },
  {
   "cell_type": "code",
   "execution_count": 41,
   "metadata": {},
   "outputs": [
    {
     "name": "stdout",
     "output_type": "stream",
     "text": [
      "Exact Diagonalization Results for N=10\n",
      "Ground state energy E0: -12.381490\n",
      "<Z> per site: -0.000000\n",
      "<X> per site: 0.732255\n"
     ]
    }
   ],
   "source": [
    "# 计算期望值\n",
    "mz = np.vdot(ground_state, Z_total @ ground_state).real / N\n",
    "mx = np.vdot(ground_state, X_total @ ground_state).real / N\n",
    "\n",
    "# 输出结果\n",
    "print(f\"Exact Diagonalization Results for N={N}\")\n",
    "print(f\"Ground state energy E0: {E0:.6f}\")\n",
    "print(f\"<Z> per site: {mz:.6f}\")\n",
    "print(f\"<X> per site: {mx:.6f}\")"
   ]
  },
  {
   "cell_type": "code",
   "execution_count": null,
   "metadata": {},
   "outputs": [],
   "source": [
    "def magnetization_x(ground_state, N, X, kron_N, I):\n",
    "    M = 0.0\n",
    "    for i in range(N):\n",
    "        ops = [I] * N\n",
    "        ops[i] = X\n",
    "        op = kron_N(ops)\n",
    "        M += np.vdot(ground_state, op @ ground_state).real\n",
    "    return M / N"
   ]
  },
  {
   "cell_type": "code",
   "execution_count": null,
   "metadata": {},
   "outputs": [],
   "source": [
    "h_list = np.logspace(-2, 2, 30)\n",
    "N_list = range(2, 11)\n",
    "mx_vs_h = np.zeros((len(N_list), len(h_list)))\n",
    "for iN, N in enumerate(N_list):\n",
    "    for ih, h in enumerate(h_list):\n",
    "        H = build_hamiltonian(N, J=1.0, h=h)\n",
    "        eigvals, eigvecs = eigh(H)\n",
    "        ground_state = eigvecs[:, 0]\n",
    "        mx = magnetization_x(ground_state, N, X, kron_N, I)\n",
    "        mx_vs_h[iN, ih] = mx\n",
    "\n",
    "plt.figure(figsize=(8,6))\n",
    "for iN, N in enumerate(N_list):\n",
    "    plt.plot(h_list, mx_vs_h[iN], label=f\"N={N}\")\n",
    "plt.xscale('log')\n",
    "plt.xlabel('Transverse Field h (log scale)')\n",
    "plt.ylabel(r'$\\langle X \\rangle$')\n",
    "plt.title(r'Magnetization $\\langle X \\rangle$ vs $h$ for $N=2$ to $10$ (J=1)')\n",
    "plt.legend()\n",
    "plt.grid(True, which='both', ls='--', alpha=0.5)\n",
    "plt.show()"
   ]
  }
 ],
 "metadata": {
  "kernelspec": {
   "display_name": "qiskit",
   "language": "python",
   "name": "python3"
  },
  "language_info": {
   "codemirror_mode": {
    "name": "ipython",
    "version": 3
   },
   "file_extension": ".py",
   "mimetype": "text/x-python",
   "name": "python",
   "nbconvert_exporter": "python",
   "pygments_lexer": "ipython3",
   "version": "3.13.3"
  }
 },
 "nbformat": 4,
 "nbformat_minor": 2
}
