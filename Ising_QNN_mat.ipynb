{
 "cells": [
  {
   "cell_type": "code",
   "execution_count": 1,
   "metadata": {},
   "outputs": [],
   "source": [
    "import numpy as np\n",
    "import torch\n",
    "import torch.nn as nn\n",
    "import matplotlib.pyplot as plt\n",
    "from IPython.display import clear_output\n",
    "\n",
    "from qiskit import QuantumCircuit\n",
    "from qiskit.circuit import ParameterVector\n",
    "from qiskit.quantum_info import SparsePauliOp\n",
    "from qiskit.primitives import Estimator\n",
    "from qiskit_machine_learning.neural_networks import EstimatorQNN\n",
    "from qiskit_machine_learning.connectors import TorchConnector\n"
   ]
  },
  {
   "cell_type": "code",
   "execution_count": 2,
   "metadata": {},
   "outputs": [],
   "source": [
    "# ----- Build 1D Transverse Field Ising Hamiltonian -----\n",
    "def build_ising_hamiltonian(n, J, h):\n",
    "    paulis = []\n",
    "    coeffs = []\n",
    "\n",
    "    # Z_i Z_{i+1} term\n",
    "    for i in range(n - 1):\n",
    "        label = ['I'] * n\n",
    "        label[i] = 'Z'\n",
    "        label[i + 1] = 'Z'\n",
    "        paulis.append(''.join(reversed(label)))  # Qiskit uses right-to-left order\n",
    "        coeffs.append(-J)\n",
    "\n",
    "    # X_i term\n",
    "    for i in range(n):\n",
    "        label = ['I'] * n\n",
    "        label[i] = 'X'\n",
    "        paulis.append(''.join(reversed(label)))\n",
    "        coeffs.append(-h)\n",
    "\n",
    "    return SparsePauliOp.from_list(list(zip(paulis, coeffs)))"
   ]
  },
  {
   "cell_type": "code",
   "execution_count": 6,
   "metadata": {},
   "outputs": [],
   "source": [
    "def create_physically_inspired_ansatz(n_qubits, h, J, reps=3):\n",
    "    params = ParameterVector('θ', length=2 * n_qubits * reps)\n",
    "    qc = QuantumCircuit(n_qubits)\n",
    "\n",
    "    # Initial state preparation: set RY angles according to h/J to simulate magnetization direction\n",
    "    init_angle = 2 * np.arctan(h / J)  # Multiply by 2 because RY(θ)|0> = cos(θ/2)|0> + sin(θ/2)|1>\n",
    "    for i in range(n_qubits):\n",
    "        qc.ry(init_angle, i)\n",
    "\n",
    "    # Ansatz part: multi-layer rotation + entanglement structure\n",
    "    for rep in range(reps):\n",
    "        for i in range(n_qubits):\n",
    "            qc.ry(params[2 * n_qubits * rep + i], i)\n",
    "            qc.rx(params[2 * n_qubits * rep + n_qubits + i], i)\n",
    "        for i in range(n_qubits - 1):\n",
    "            qc.cx(i, i + 1)\n",
    "\n",
    "    return qc, list(params)"
   ]
  },
  {
   "cell_type": "code",
   "execution_count": 8,
   "metadata": {},
   "outputs": [
    {
     "data": {
      "text/plain": [
       "'optimizer = torch.optim.Adagrad(qnn_model.parameters(), lr=0.1)  # Learning rate can be adjusted'"
      ]
     },
     "execution_count": 8,
     "metadata": {},
     "output_type": "execute_result"
    }
   ],
   "source": [
    "# Using Adagrad optimizer\n",
    "'''optimizer = torch.optim.Adagrad(qnn_model.parameters(), lr=0.1)  # Learning rate can be adjusted'''"
   ]
  },
  {
   "cell_type": "code",
   "execution_count": 6,
   "metadata": {},
   "outputs": [
    {
     "data": {
      "text/plain": [
       "'optimizer = torch.optim.SGD(qnn_model.parameters(), lr=0.01)  # Adjust learning rate as needed'"
      ]
     },
     "execution_count": 6,
     "metadata": {},
     "output_type": "execute_result"
    }
   ],
   "source": [
    "# Using Stochastic Gradient Descent (SGD) optimizer\n",
    "'''optimizer = torch.optim.SGD(qnn_model.parameters(), lr=0.01)  # Adjust learning rate as needed'''\n"
   ]
  },
  {
   "cell_type": "code",
   "execution_count": 7,
   "metadata": {},
   "outputs": [
    {
     "name": "stderr",
     "output_type": "stream",
     "text": [
      "/var/folders/d9/_3jh3gcd7m5gl50nsj1mgls80000gn/T/ipykernel_21907/3657267089.py:9: DeprecationWarning: V1 Primitives are deprecated as of qiskit-machine-learning 0.8.0 and will be removed no sooner than 4 months after the release date. Use V2 primitives for continued compatibility and support.\n",
      "  qnn = EstimatorQNN(\n"
     ]
    },
    {
     "name": "stdout",
     "output_type": "stream",
     "text": [
      "N=2, E0=-2.236068, <Z>=0.000121, <X>=0.894530\n"
     ]
    }
   ],
   "source": [
    "# Calculate ground state energy and magnetization for N=2 to 10\n",
    "results = []\n",
    "for n_qubits in range(2, 3):\n",
    "    J = 1.0\n",
    "    h = 1.0\n",
    "    hamiltonian = build_ising_hamiltonian(n_qubits, J, h)\n",
    "    ansatz_circuit, ansatz_params = create_physically_inspired_ansatz(n_qubits, h, J, reps=4)\n",
    "    estimator = Estimator()\n",
    "    qnn = EstimatorQNN(\n",
    "        circuit=ansatz_circuit,\n",
    "        observables=hamiltonian,\n",
    "        input_params=[],\n",
    "        weight_params=ansatz_params,\n",
    "        estimator=estimator\n",
    "    )\n",
    "    qnn_model = TorchConnector(qnn)\n",
    "    optimizer = torch.optim.AdamW(qnn_model.parameters(), lr=0.01)\n",
    "   \n",
    "    # Train the model\n",
    "    for epoch in range(500):  # Number of iterations can be adjusted\n",
    "        optimizer.zero_grad()\n",
    "        output = qnn_model()\n",
    "        loss = output.mean()  # Optimize only the energy\n",
    "        loss.backward()\n",
    "        optimizer.step()\n",
    "\n",
    "    # Record physical quantities with optimal parameters\n",
    "    final_weights = qnn_model.weight.detach().numpy()\n",
    "    estimator = Estimator()\n",
    "    # <H> Ground state energy\n",
    "    E0 = estimator.run(circuits=ansatz_circuit, observables=hamiltonian, parameter_values=[final_weights]).result().values[0]\n",
    "\n",
    "    # <Z> Total magnetization\n",
    "    z_obs = SparsePauliOp.from_list([(f\"{'I'*i + 'Z' + 'I'*(n_qubits - i - 1)}\", 1.0) for i in range(n_qubits)])\n",
    "    mz = estimator.run(circuits=ansatz_circuit, observables=z_obs, parameter_values=[final_weights]).result().values[0] / n_qubits\n",
    "\n",
    "    # <X> Total magnetization\n",
    "    x_obs = SparsePauliOp.from_list([(f\"{'I'*i + 'X' + 'I'*(n_qubits - i - 1)}\", 1.0) for i in range(n_qubits)])\n",
    "    mx = estimator.run(circuits=ansatz_circuit, observables=x_obs, parameter_values=[final_weights]).result().values[0] / n_qubits\n",
    "    results.append((n_qubits, E0, mz, mx))\n",
    "    \n",
    "    print(f\"N={n_qubits}, E0={E0:.6f}, <Z>={mz:.6f}, <X>={mx:.6f}\")\n",
    "\n"
   ]
  },
  {
   "cell_type": "code",
   "execution_count": 8,
   "metadata": {},
   "outputs": [
    {
     "name": "stdout",
     "output_type": "stream",
     "text": [
      "\n",
      "Summary for N=2 to 10:\n",
      "N=2: E0=-2.236068, <Z>=0.000121, <X>=0.894530\n"
     ]
    }
   ],
   "source": [
    "# Summary output\n",
    "print(\"\\nSummary for N=2 to 10:\")\n",
    "for n, E0, mz, mx in results:\n",
    "    print(f\"N={n}: E0={E0:.6f}, <Z>={mz:.6f}, <X>={mx:.6f}\")"
   ]
  },
  {
   "cell_type": "markdown",
   "metadata": {},
   "source": [
    "## Visualize the Physically Inspired Ansatz Circuit\n",
    "\n",
    "Below we plot the quantum circuit structure for the physically inspired ansatz used in this notebook (for N=4 as an example)."
   ]
  },
  {
   "cell_type": "code",
   "execution_count": 10,
   "metadata": {},
   "outputs": [],
   "source": [
    "from qiskit.visualization import circuit_drawer\n",
    "\n",
    "# Example: visualize the ansatz for N=4\n",
    "n_qubits_example = 4\n",
    "h_example = 1.0\n",
    "J_example = 1.0\n",
    "ansatz_circuit_example, _ = create_physically_inspired_ansatz(n_qubits_example, h_example, J_example, reps=4)\n",
    "\n",
    "# Draw the circuit\n",
    "circuit_drawer(ansatz_circuit_example, output='mpl')\n",
    "plt.show()"
   ]
  }
 ],
 "metadata": {
  "kernelspec": {
   "display_name": "qiskit",
   "language": "python",
   "name": "python3"
  },
  "language_info": {
   "codemirror_mode": {
    "name": "ipython",
    "version": 3
   },
   "file_extension": ".py",
   "mimetype": "text/x-python",
   "name": "python",
   "nbconvert_exporter": "python",
   "pygments_lexer": "ipython3",
   "version": "3.13.3"
  }
 },
 "nbformat": 4,
 "nbformat_minor": 2
}
