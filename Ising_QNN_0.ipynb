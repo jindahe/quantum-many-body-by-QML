{
 "cells": [
  {
   "cell_type": "code",
   "execution_count": 1,
   "metadata": {},
   "outputs": [],
   "source": [
    "import numpy as np\n",
    "import torch\n",
    "import torch.nn as nn\n",
    "import matplotlib.pyplot as plt\n",
    "from IPython.display import clear_output\n",
    "\n",
    "from qiskit import QuantumCircuit\n",
    "from qiskit.circuit import ParameterVector\n",
    "from qiskit.quantum_info import SparsePauliOp\n",
    "from qiskit.primitives import Estimator\n",
    "from qiskit_machine_learning.neural_networks import EstimatorQNN\n",
    "from qiskit_machine_learning.connectors import TorchConnector\n"
   ]
  },
  {
   "cell_type": "code",
   "execution_count": 2,
   "metadata": {},
   "outputs": [],
   "source": [
    "# ----- 参数设置 -----\n",
    "n_qubits = 10\n",
    "J = 1.0\n",
    "h = 1.0"
   ]
  },
  {
   "cell_type": "code",
   "execution_count": 3,
   "metadata": {},
   "outputs": [],
   "source": [
    "# ----- 构建 1D 横场 Ising Hamiltonian -----\n",
    "def build_ising_hamiltonian(n, J, h):\n",
    "    paulis = []\n",
    "    coeffs = []\n",
    "\n",
    "    # Z_i Z_{i+1} 项\n",
    "    for i in range(n - 1):\n",
    "        label = ['I'] * n\n",
    "        label[i] = 'Z'\n",
    "        label[i + 1] = 'Z'\n",
    "        paulis.append(''.join(reversed(label)))  # Qiskit从右往左\n",
    "        coeffs.append(-J)\n",
    "\n",
    "    # X_i 项\n",
    "    for i in range(n):\n",
    "        label = ['I'] * n\n",
    "        label[i] = 'X'\n",
    "        paulis.append(''.join(reversed(label)))\n",
    "        coeffs.append(-h)\n",
    "\n",
    "    return SparsePauliOp.from_list(list(zip(paulis, coeffs)))\n",
    "\n",
    "hamiltonian = build_ising_hamiltonian(n_qubits, J, h)"
   ]
  },
  {
   "cell_type": "code",
   "execution_count": 4,
   "metadata": {},
   "outputs": [],
   "source": [
    "def create_physically_inspired_ansatz(n_qubits, h, J, reps=3):\n",
    "    params = ParameterVector('θ', length=2 * n_qubits * reps)\n",
    "    qc = QuantumCircuit(n_qubits)\n",
    "\n",
    "    # 初态准备：根据 h/J 设置 RY 角度，模拟磁化方向\n",
    "    init_angle = 2 * np.arctan(h / J)  # 乘 2 是因为 RY(θ)|0> = cos(θ/2)|0> + sin(θ/2)|1>\n",
    "    for i in range(n_qubits):\n",
    "        qc.ry(init_angle, i)\n",
    "\n",
    "    # Ansatz 部分：多层旋转+纠缠结构\n",
    "    for rep in range(reps):\n",
    "        for i in range(n_qubits):\n",
    "            qc.ry(params[2 * n_qubits * rep + i], i)\n",
    "            qc.rx(params[2 * n_qubits * rep + n_qubits + i], i)\n",
    "        for i in range(n_qubits - 1):\n",
    "            qc.cx(i, i + 1)\n",
    "\n",
    "    return qc, list(params)\n",
    "\n",
    "\n",
    "\n",
    "ansatz_circuit, ansatz_params = create_physically_inspired_ansatz(n_qubits, h, J, reps=4)"
   ]
  },
  {
   "cell_type": "code",
   "execution_count": 5,
   "metadata": {},
   "outputs": [
    {
     "name": "stderr",
     "output_type": "stream",
     "text": [
      "/var/folders/d9/_3jh3gcd7m5gl50nsj1mgls80000gn/T/ipykernel_23646/1738038090.py:3: DeprecationWarning: V1 Primitives are deprecated as of qiskit-machine-learning 0.8.0 and will be removed no sooner than 4 months after the release date. Use V2 primitives for continued compatibility and support.\n",
      "  qnn = EstimatorQNN(\n"
     ]
    }
   ],
   "source": [
    "# ----- 构建 EstimatorQNN -----\n",
    "estimator = Estimator()\n",
    "qnn = EstimatorQNN(\n",
    "    circuit=ansatz_circuit,\n",
    "    observables=hamiltonian,\n",
    "    input_params=[],\n",
    "    weight_params=ansatz_params,\n",
    "    estimator=estimator\n",
    ")\n"
   ]
  },
  {
   "cell_type": "code",
   "execution_count": 6,
   "metadata": {},
   "outputs": [],
   "source": [
    "# ----- 用 TorchConnector 包装 QNN -----\n",
    "qnn_model = TorchConnector(qnn)"
   ]
  },
  {
   "cell_type": "code",
   "execution_count": 7,
   "metadata": {},
   "outputs": [],
   "source": [
    "# ----- 动态可视化回调函数 -----\n",
    "objective_func_vals = []\n",
    "def callback_graph(weights, obj_func_eval):\n",
    "    clear_output(wait=True)\n",
    "    objective_func_vals.append(obj_func_eval)\n",
    "    plt.title(\"Ground state energy value against iteration\")\n",
    "    plt.xlabel(\"Iteration\")\n",
    "    plt.ylabel(\"Ground state energy value\")\n",
    "    plt.plot(range(len(objective_func_vals)), objective_func_vals)\n",
    "    plt.grid(True)\n",
    "    plt.show()"
   ]
  },
  {
   "cell_type": "code",
   "execution_count": 8,
   "metadata": {},
   "outputs": [
    {
     "data": {
      "text/plain": [
       "'optimizer = torch.optim.Adagrad(qnn_model.parameters(), lr=0.1)  # 可调整学习率'"
      ]
     },
     "execution_count": 8,
     "metadata": {},
     "output_type": "execute_result"
    }
   ],
   "source": [
    "# 使用 Adagrad 优化器\n",
    "'''optimizer = torch.optim.Adagrad(qnn_model.parameters(), lr=0.1)  # 可调整学习率'''"
   ]
  },
  {
   "cell_type": "code",
   "execution_count": 9,
   "metadata": {},
   "outputs": [
    {
     "data": {
      "text/plain": [
       "'optimizer = torch.optim.SGD(qnn_model.parameters(), lr=0.01)  # 可根据需要调整学习率'"
      ]
     },
     "execution_count": 9,
     "metadata": {},
     "output_type": "execute_result"
    }
   ],
   "source": [
    "# 使用随机梯度下降 (SGD) 优化器\n",
    "'''optimizer = torch.optim.SGD(qnn_model.parameters(), lr=0.01)  # 可根据需要调整学习率'''\n"
   ]
  },
  {
   "cell_type": "code",
   "execution_count": 10,
   "metadata": {},
   "outputs": [],
   "source": [
    "# 调整 Adam 优化器的学习率\n",
    "optimizer = torch.optim.Adam(qnn_model.parameters(), lr=0.01)  # 调整学习率\n"
   ]
  },
  {
   "cell_type": "code",
   "execution_count": 11,
   "metadata": {},
   "outputs": [
    {
     "data": {
      "image/png": "[encoded data removed]",
      "text/plain": [
       "<Figure size 640x480 with 1 Axes>"
      ]
     },
     "metadata": {},
     "output_type": "display_data"
    }
   ],
   "source": [
    "# ----- 训练过程 -----\n",
    "for epoch in range(500):\n",
    "    optimizer.zero_grad()\n",
    "    output = qnn_model()\n",
    "    loss = output.mean()\n",
    "    loss.backward()\n",
    "    optimizer.step()\n",
    "    callback_graph(qnn_model.weight, loss.item())"
   ]
  },
  {
   "cell_type": "code",
   "execution_count": 13,
   "metadata": {},
   "outputs": [
    {
     "name": "stdout",
     "output_type": "stream",
     "text": [
      "\n",
      "Ground state energy E0 ≈ -12.342711\n",
      "Magnetization <Z> ≈ -0.001404\n",
      "Magnetization <X> ≈ 0.748171\n"
     ]
    }
   ],
   "source": [
    "# ----- 输出结果 -----\n",
    "final_weights = qnn_model.weight.detach().numpy()\n",
    "estimator = Estimator()\n",
    "\n",
    "# Ground state energy\n",
    "E0 = estimator.run(circuits=ansatz_circuit, observables=hamiltonian, parameter_values=[final_weights]).result().values[0]\n",
    "print(f\"\\nGround state energy E0 ≈ {E0:.6f}\")\n",
    "\n",
    "# <Z> 总磁化\n",
    "z_obs = SparsePauliOp.from_list([(f\"{'I'*i + 'Z' + 'I'*(n_qubits - i - 1)}\", 1.0) for i in range(n_qubits)])\n",
    "mz = estimator.run(circuits=ansatz_circuit, observables=z_obs, parameter_values=[final_weights]).result().values[0] / n_qubits\n",
    "print(f\"Magnetization <Z> ≈ {mz:.6f}\")\n",
    "\n",
    "# <X> 总磁化\n",
    "x_obs = SparsePauliOp.from_list([(f\"{'I'*i + 'X' + 'I'*(n_qubits - i - 1)}\", 1.0) for i in range(n_qubits)])\n",
    "mx = estimator.run(circuits=ansatz_circuit, observables=x_obs, parameter_values=[final_weights]).result().values[0] / n_qubits\n",
    "print(f\"Magnetization <X> ≈ {mx:.6f}\")"
   ]
  }
 ],
 "metadata": {
  "kernelspec": {
   "display_name": "qiskit",
   "language": "python",
   "name": "python3"
  },
  "language_info": {
   "codemirror_mode": {
    "name": "ipython",
    "version": 3
   },
   "file_extension": ".py",
   "mimetype": "text/x-python",
   "name": "python",
   "nbconvert_exporter": "python",
   "pygments_lexer": "ipython3",
   "version": "3.13.3"
  }
 },
 "nbformat": 4,
 "nbformat_minor": 2
}
